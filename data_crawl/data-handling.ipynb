{
 "cells": [
  {
   "cell_type": "code",
   "execution_count": null,
   "metadata": {},
   "outputs": [],
   "source": [
    "# 将用于telegram查询群组的关键词从csv提取到json\n",
    "import csv\n",
    "\n",
    "results={}\n",
    "results[\"all\"]=[]\n",
    "with open(\"dark_keywords_telegram_search/dark_keywords.csv\",) as csvfile:\n",
    "    reader = csv.DictReader(csvfile)\n",
    "    for row in reader:\n",
    "        results.setdefault(row[\"category\"],[])\n",
    "        results[row[\"category\"]].append(row[\"keyword\"])\n",
    "        results[\"all\"].append(row[\"keyword\"])\n",
    "csvfile.close()\n",
    "\n",
    "results\n",
    "\n",
    "import json\n",
    "\n",
    "with open(\"dark_keywords.json\",\"w\") as jsonfile:\n",
    "    json.dump(results,jsonfile,ensure_ascii=False)\n",
    "jsonfile.close()"
   ]
  },
  {
   "cell_type": "code",
   "execution_count": null,
   "metadata": {},
   "outputs": [],
   "source": [
    "# 将整理的用于大模型微调的黑话origin数据集整理成一列：csv->csv\n",
    "import csv\n",
    "\n",
    "results=[[\"text\"]]\n",
    "with open(\"darkword_data_collected/darkword_origin_data.csv\",\"r\") as csvfile:\n",
    "    reader = csv.DictReader(csvfile)\n",
    "    for row in reader:\n",
    "        text=\"<s>Human: \"+row[\"background\"]+row[\"category\"]+\"，\"+row[\"input\"]+\"\\n</s><s>Assistant: \"+row[\"content\"]+\"\\n</s>\"\n",
    "        print(text)\n",
    "        results.append([text])\n",
    "csvfile.close()\n",
    "\n",
    "with open(\"darkword_data_collected/darkword_train_data.csv\",\"w\") as file:\n",
    "    writer = csv.writer(file)\n",
    "    writer.writerows(results)"
   ]
  },
  {
   "cell_type": "code",
   "execution_count": null,
   "metadata": {},
   "outputs": [],
   "source": [
    "# 将整理的用于大模型微调的黑话origin数据集整理成一列：csv->csv（version2）\n",
    "import csv\n",
    "\n",
    "results=[[\"text\"]]\n",
    "with open(\"darkword_data_collected/darkword_origin_data.csv\",\"r\") as csvfile:\n",
    "    reader = csv.DictReader(csvfile)\n",
    "    for row in reader:\n",
    "        text=\"<s>Human: 问题背景：\"+row[\"background\"]+\"问题：\"+row[\"category\"]+\"，\"+row[\"input\"]+\"\\n</s><s>Assistant: \"+row[\"content\"]+\"\\n</s>\"\n",
    "        print(text)\n",
    "        results.append([text])\n",
    "csvfile.close()\n",
    "\n",
    "with open(\"darkword_data_collected/darkword_train_data_v2.csv\",\"w\") as file:\n",
    "    writer = csv.writer(file)\n",
    "    writer.writerows(results)"
   ]
  },
  {
   "cell_type": "code",
   "execution_count": null,
   "metadata": {},
   "outputs": [],
   "source": [
    "# 将整理的用于大模型微调的黑话origin数据集整理成一列：csv->csv（version3）\n",
    "# <s>{category}的{input}</s><s>{content}</s>\n",
    "import csv\n",
    "\n",
    "results=[[\"text\"]]\n",
    "with open(\"darkword_data_collected/darkword_origin_data.csv\",\"r\") as csvfile:\n",
    "    reader = csv.DictReader(csvfile)\n",
    "    for row in reader:\n",
    "        text=\"<s>Human: \"+row[\"category\"]+\"的\"+row[\"input\"]+\"\\n</s><s>Assistant: \"+row[\"content\"]+\"\\n</s>\"\n",
    "        print(text)\n",
    "        results.append([text])\n",
    "csvfile.close()\n",
    "\n",
    "with open(\"darkword_data_collected/darkword_format_data.csv\",\"w\") as file:\n",
    "    writer = csv.writer(file)\n",
    "    writer.writerows(results)"
   ]
  },
  {
   "cell_type": "code",
   "execution_count": 2,
   "metadata": {},
   "outputs": [],
   "source": [
    "# 将格式化后好的数据按比例划分为训练数据集合验证数据集合。\n",
    "import pandas as pd\n",
    "from sklearn.model_selection import train_test_split\n",
    "df = pd.read_csv(\"darkword_data_collected/darkword_format_data.csv\")\n",
    "train_df, valid_df = train_test_split(df,test_size=0.1, random_state=51)\n",
    "train_df.to_csv(\"darkword_data_collected/darkword_train_data.csv\",index=False)\n",
    "train_df.to_csv(\"darkword_data_collected/darkword_validate_data.csv\",index=False)"
   ]
  },
  {
   "cell_type": "code",
   "execution_count": null,
   "metadata": {},
   "outputs": [],
   "source": [
    "# 把telegram查询的keyword转换为mongodb查询语句\n",
    "\n"
   ]
  }
 ],
 "metadata": {
  "kernelspec": {
   "display_name": "llm",
   "language": "python",
   "name": "python3"
  },
  "language_info": {
   "codemirror_mode": {
    "name": "ipython",
    "version": 3
   },
   "file_extension": ".py",
   "mimetype": "text/x-python",
   "name": "python",
   "nbconvert_exporter": "python",
   "pygments_lexer": "ipython3",
   "version": "3.10.13"
  }
 },
 "nbformat": 4,
 "nbformat_minor": 2
}
